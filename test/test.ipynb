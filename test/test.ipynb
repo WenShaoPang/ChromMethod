{
 "cells": [
  {
   "cell_type": "code",
   "execution_count": 1,
   "metadata": {},
   "outputs": [
    {
     "name": "stdout",
     "output_type": "stream",
     "text": [
      "{'Smooth_Filter': {'Data_Bunching': 20, 'Window Length': 5}, 'Detrand': 100000, 'Differential': {'Window Length': 0}, 'Peak_Detection': {'Threshold Rate': 3, 'Peaks Search Offset': 10, 'MAX_TIME_WIDTH': 0.5, 'MIN_PEAK_INTERVAL': 0.4}}\n"
     ]
    }
   ],
   "source": [
    "import sys\n",
    "import os\n",
    "from os import path\n",
    "sys.path.append( 'C:\\\\Users\\\\gogho\\\\OneDrive\\\\桌面\\\\Chrom' )\n",
    "from conf.ChromAlgoSetting import ChromSetting\n",
    "a = ChromSetting()"
   ]
  },
  {
   "cell_type": "code",
   "execution_count": 5,
   "metadata": {},
   "outputs": [
    {
     "data": {
      "text/plain": [
       "{'Threshold Rate': 3,\n",
       " 'Peaks Search Offset': 10,\n",
       " 'MAX_TIME_WIDTH': 0.5,\n",
       " 'MIN_PEAK_INTERVAL': 0.4}"
      ]
     },
     "execution_count": 5,
     "metadata": {},
     "output_type": "execute_result"
    }
   ],
   "source": [
    "a.setting['Smooth_Filter']\n",
    "\n",
    "a.setting.get('Peak_Detection')"
   ]
  },
  {
   "cell_type": "code",
   "execution_count": 6,
   "metadata": {},
   "outputs": [],
   "source": [
    "class peak:\n",
    "    x,y= 0,12\n",
    "    \n",
    "class a:\n",
    "    p=peak\n",
    "    def __init__(self):\n",
    "        pass\n",
    "        "
   ]
  },
  {
   "cell_type": "code",
   "execution_count": 7,
   "metadata": {},
   "outputs": [
    {
     "data": {
      "text/plain": [
       "12"
      ]
     },
     "execution_count": 7,
     "metadata": {},
     "output_type": "execute_result"
    }
   ],
   "source": [
    "aa = a()\n",
    "aa.p.y"
   ]
  },
  {
   "cell_type": "code",
   "execution_count": 5,
   "metadata": {},
   "outputs": [
    {
     "ename": "AttributeError",
     "evalue": "'Workbook' object has no attribute 'freeze_panes'",
     "output_type": "error",
     "traceback": [
      "\u001b[1;31m---------------------------------------------------------------------------\u001b[0m",
      "\u001b[1;31mAttributeError\u001b[0m                            Traceback (most recent call last)",
      "\u001b[1;32m<ipython-input-5-9e6f2b37951b>\u001b[0m in \u001b[0;36m<module>\u001b[1;34m\u001b[0m\n\u001b[0;32m      3\u001b[0m \u001b[0mws\u001b[0m \u001b[1;33m=\u001b[0m \u001b[0mwb\u001b[0m\u001b[1;33m.\u001b[0m\u001b[0mactive\u001b[0m\u001b[1;33m\u001b[0m\u001b[1;33m\u001b[0m\u001b[0m\n\u001b[0;32m      4\u001b[0m \u001b[0mws\u001b[0m\u001b[1;33m[\u001b[0m\u001b[1;34m'A1'\u001b[0m\u001b[1;33m]\u001b[0m \u001b[1;33m=\u001b[0m \u001b[1;34m'我是儲存格'\u001b[0m\u001b[1;33m\u001b[0m\u001b[1;33m\u001b[0m\u001b[0m\n\u001b[1;32m----> 5\u001b[1;33m \u001b[0mwb\u001b[0m\u001b[1;33m.\u001b[0m\u001b[0mfreeze_panes\u001b[0m\u001b[1;33m(\u001b[0m\u001b[1;34m'A1'\u001b[0m\u001b[1;33m)\u001b[0m\u001b[1;33m\u001b[0m\u001b[1;33m\u001b[0m\u001b[0m\n\u001b[0m\u001b[0;32m      6\u001b[0m \u001b[1;31m# 向下新增一列並連續插入值\u001b[0m\u001b[1;33m\u001b[0m\u001b[1;33m\u001b[0m\u001b[1;33m\u001b[0m\u001b[0m\n\u001b[0;32m      7\u001b[0m \u001b[0mws\u001b[0m\u001b[1;33m.\u001b[0m\u001b[0mappend\u001b[0m\u001b[1;33m(\u001b[0m\u001b[1;33m[\u001b[0m\u001b[1;36m1\u001b[0m\u001b[1;33m,\u001b[0m \u001b[1;36m2\u001b[0m\u001b[1;33m,\u001b[0m \u001b[1;36m3\u001b[0m\u001b[1;33m]\u001b[0m\u001b[1;33m)\u001b[0m\u001b[1;33m\u001b[0m\u001b[1;33m\u001b[0m\u001b[0m\n",
      "\u001b[1;31mAttributeError\u001b[0m: 'Workbook' object has no attribute 'freeze_panes'"
     ]
    }
   ],
   "source": [
    "from openpyxl import Workbook\n",
    "wb = Workbook()\n",
    "ws = wb.active\n",
    "ws['A1'] = '我是儲存格'\n",
    "wb.freeze_panes('A1')\n",
    "# 向下新增一列並連續插入值\n",
    "ws.append([1, 2, 3])\n",
    "ws.append([3, 2, 1])\n",
    "# 儲存成 create_sample.xlsx 檔案\n",
    "wb.save('C:\\\\Users\\\\gogho\\\\OneDrive\\\\桌面\\\\Chrom\\\\test\\\\create_sample.xlsx')"
   ]
  },
  {
   "cell_type": "code",
   "execution_count": 2,
   "metadata": {},
   "outputs": [],
   "source": [
    "from openpyxl import Workbook\n",
    "from openpyxl.worksheet.table import Table, TableStyleInfo\n",
    "\n",
    "wb = Workbook()\n",
    "ws = wb.active\n",
    "\n",
    "data = [\n",
    "    ['Apples', 10000, 5000, 8000, 6000],\n",
    "    ['Pears',   2000, 3000, 4000, 5000],\n",
    "    ['Bananas', 6000, 6000, 6500, 6000],\n",
    "    ['Oranges',  500,  300,  200,  700],\n",
    "]\n",
    "\n",
    "# add column headings. NB. these must be strings\n",
    "#ws.append([\"Fruit\", \"2011\", \"2012\", \"2013\", \"2014\"])\n",
    "ws.append([\"Ret. Time\", \"Height\", \"Area\", \"Width\", \"Asymmetry\", \"Tailing Factor\", \"N\", \"Sigma\", \"W0.5\",\"W0.1\", \"W0.01\"])\n",
    "for row in data:\n",
    "    ws.append(row)\n",
    "\n",
    "#tab = Table(displayName=\"Table1\", ref=\"A1:E5\")\n",
    "tab = Table(displayName=\"Table1\", ref=\"A1:K5\")\n",
    "\n",
    "# Add a default style with striped rows and banded columns\n",
    "style = TableStyleInfo(name=\"TableStyleMedium9\", showFirstColumn=False,\n",
    "                       showLastColumn=False, showRowStripes=True, showColumnStripes=True)\n",
    "tab.tableStyleInfo = style\n",
    "ws.add_table(tab)\n",
    "wb.save(\"C:\\\\Users\\\\gogho\\\\OneDrive\\\\桌面\\\\Chrom\\\\test\\\\create_sample.xlsx\")"
   ]
  },
  {
   "cell_type": "code",
   "execution_count": null,
   "metadata": {},
   "outputs": [],
   "source": []
  }
 ],
 "metadata": {
  "kernelspec": {
   "display_name": "Python 3",
   "language": "python",
   "name": "python3"
  },
  "language_info": {
   "codemirror_mode": {
    "name": "ipython",
    "version": 3
   },
   "file_extension": ".py",
   "mimetype": "text/x-python",
   "name": "python",
   "nbconvert_exporter": "python",
   "pygments_lexer": "ipython3",
   "version": "3.7.4"
  }
 },
 "nbformat": 4,
 "nbformat_minor": 2
}
